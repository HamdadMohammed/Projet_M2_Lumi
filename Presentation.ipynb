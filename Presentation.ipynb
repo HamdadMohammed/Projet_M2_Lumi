{
 "cells": [
  {
   "cell_type": "markdown",
   "id": "3c87580e",
   "metadata": {},
   "source": [
    "# Présentation du projet Python : Tracé d'un schéma optique\n",
    "\n",
    "Par Mohammed et Samuel"
   ]
  }
 ],
 "metadata": {
  "kernelspec": {
   "display_name": "Python 3 (ipykernel)",
   "language": "python",
   "name": "python3"
  },
  "language_info": {
   "codemirror_mode": {
    "name": "ipython",
    "version": 3
   },
   "file_extension": ".py",
   "mimetype": "text/x-python",
   "name": "python",
   "nbconvert_exporter": "python",
   "pygments_lexer": "ipython3",
   "version": "3.9.13"
  }
 },
 "nbformat": 4,
 "nbformat_minor": 5
}
